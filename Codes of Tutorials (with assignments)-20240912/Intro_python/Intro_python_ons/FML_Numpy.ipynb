{
  "cells": [
    {
      "cell_type": "markdown",
      "metadata": {
        "id": "AmFvR7ZPsYBY"
      },
      "source": [
        "# Numpy\n",
        "\n",
        "<b> NumPy is a python library used for working with arrays.It also has functions for working in domain of linear algebra, fourier transform, and matrices.\n",
        "\n",
        "Numpy installation command (Anaconda):\n",
        "    <i>pip install numpy</i>\n",
        "    \n",
        "\n",
        "</b>\n",
        "\n",
        "\n",
        "    \n",
        "\n"
      ]
    },
    {
      "cell_type": "markdown",
      "metadata": {
        "id": "y4GLlXw4sYBa"
      },
      "source": [
        "### NumPy Creating Arrays"
      ]
    },
    {
      "cell_type": "code",
      "execution_count": 2,
      "metadata": {
        "colab": {
          "base_uri": "https://localhost:8080/"
        },
        "id": "eNLfh749sYBb",
        "outputId": "f045b642-104e-4fde-9cb0-a4fd66e6075b"
      },
      "outputs": [
        {
          "name": "stdout",
          "output_type": "stream",
          "text": [
            "[1 2 3 4 5]\n",
            "['a' 'b']\n"
          ]
        }
      ],
      "source": [
        "#After installation you can import numpy and use.\n",
        "\n",
        "import numpy\n",
        "\n",
        "a= numpy.array([1, 2, 3, 4, 5])\n",
        "b= numpy.array(['a', 'b'])\n",
        "\n",
        "print(a)\n",
        "print(b)"
      ]
    },
    {
      "cell_type": "code",
      "execution_count": 3,
      "metadata": {
        "colab": {
          "base_uri": "https://localhost:8080/"
        },
        "id": "TzCuSKp9sYBb",
        "outputId": "97ec7ef6-35e7-4a2f-f214-3daefa274738"
      },
      "outputs": [
        {
          "name": "stdout",
          "output_type": "stream",
          "text": [
            "[1 2 3 4 5]\n"
          ]
        }
      ],
      "source": [
        "#NumPy is usually imported under the np alias.\n",
        "import numpy as np\n",
        "\n",
        "a= np.array([1,2,3,4,5])\n",
        "\n",
        "print(a)"
      ]
    },
    {
      "cell_type": "code",
      "execution_count": 5,
      "metadata": {
        "colab": {
          "base_uri": "https://localhost:8080/"
        },
        "id": "Uyp9XXOssYBc",
        "outputId": "ee1c93ac-18a8-4492-bb04-6632771ec575"
      },
      "outputs": [
        {
          "name": "stdout",
          "output_type": "stream",
          "text": [
            "2.0.2\n"
          ]
        }
      ],
      "source": [
        "#check numpy version\n",
        "\n",
        "import numpy as np\n",
        "print(np.__version__)"
      ]
    },
    {
      "cell_type": "markdown",
      "metadata": {
        "id": "nXutFdJRsYBd"
      },
      "source": [
        "### Creating 0, 1, 2 Dimentional array"
      ]
    },
    {
      "cell_type": "code",
      "execution_count": 6,
      "metadata": {
        "colab": {
          "base_uri": "https://localhost:8080/"
        },
        "id": "TufG_uhEsYBe",
        "outputId": "88ff70d9-19b3-47c6-ffe9-e01f2efef725"
      },
      "outputs": [
        {
          "name": "stdout",
          "output_type": "stream",
          "text": [
            "42\n",
            "0\n"
          ]
        }
      ],
      "source": [
        "# 0-D array\n",
        "\n",
        "#import numpy as np\n",
        "\n",
        "a = np.array(42)\n",
        "\n",
        "print(a)\n",
        "print(a.ndim)"
      ]
    },
    {
      "cell_type": "code",
      "execution_count": 7,
      "metadata": {
        "colab": {
          "base_uri": "https://localhost:8080/"
        },
        "id": "CeqjiY9nsYBf",
        "outputId": "efe12ff3-b7e3-491a-f7e5-1385b4288149"
      },
      "outputs": [
        {
          "name": "stdout",
          "output_type": "stream",
          "text": [
            "[1 2 3 4 5]\n",
            "1\n"
          ]
        }
      ],
      "source": [
        "# 1-D array\n",
        "\n",
        "#import numpy as np\n",
        "\n",
        "a = np.array([1, 2, 3, 4, 5])\n",
        "\n",
        "print(a)\n",
        "print(a.ndim)"
      ]
    },
    {
      "cell_type": "code",
      "execution_count": 8,
      "metadata": {
        "colab": {
          "base_uri": "https://localhost:8080/"
        },
        "id": "2kuAHrIUsYBf",
        "outputId": "26c452ca-878f-4df8-8045-de565c8aa233"
      },
      "outputs": [
        {
          "name": "stdout",
          "output_type": "stream",
          "text": [
            "[[1 2 3]\n",
            " [4 5 6]]\n",
            "2\n"
          ]
        }
      ],
      "source": [
        "# 2- D array\n",
        "\n",
        "#import numpy as np\n",
        "\n",
        "a = np.array([[1, 2, 3], [4, 5, 6]])\n",
        "\n",
        "print(a)\n",
        "print(a.ndim)\n"
      ]
    },
    {
      "cell_type": "code",
      "execution_count": 9,
      "metadata": {
        "colab": {
          "base_uri": "https://localhost:8080/"
        },
        "id": "KvJDqfq_sYBf",
        "outputId": "a8a50341-11c5-4817-8e20-b497c27ccd94"
      },
      "outputs": [
        {
          "name": "stdout",
          "output_type": "stream",
          "text": [
            "[[[[[1 2 3 4]]]]]\n",
            "5\n"
          ]
        }
      ],
      "source": [
        "#high dimensional array\n",
        "\n",
        "#import numpy as np\n",
        "\n",
        "a = np.array([1,2,3,4], ndmin=5)\n",
        "print(a)\n",
        "print(a.ndim)"
      ]
    },
    {
      "cell_type": "markdown",
      "metadata": {
        "id": "xUl3eS0lsYBg"
      },
      "source": [
        "### Numpy array Indexing\n",
        "\n",
        "It is same as accessing the element."
      ]
    },
    {
      "cell_type": "code",
      "execution_count": 10,
      "metadata": {
        "colab": {
          "base_uri": "https://localhost:8080/"
        },
        "id": "7fUPBZ1RsYBg",
        "outputId": "d4d22bc0-9e2e-4859-87e8-9bbb73ef9ae4"
      },
      "outputs": [
        {
          "name": "stdout",
          "output_type": "stream",
          "text": [
            "12\n"
          ]
        }
      ],
      "source": [
        "#Get the first element from the following array.\n",
        "\n",
        "import numpy as np\n",
        "\n",
        "a = np.array([10, 12, 30, 14])\n",
        "\n",
        "print(a[1])"
      ]
    },
    {
      "cell_type": "code",
      "execution_count": 11,
      "metadata": {
        "colab": {
          "base_uri": "https://localhost:8080/"
        },
        "id": "GcKcEtb7sYBg",
        "outputId": "00cfe758-1e5f-431a-b5b9-332da93e0bb0"
      },
      "outputs": [
        {
          "name": "stdout",
          "output_type": "stream",
          "text": [
            "27\n"
          ]
        }
      ],
      "source": [
        "#get 2nd and 3rd element from the following and add them.\n",
        "\n",
        "#import numpy as np\n",
        "\n",
        "a = np.array([11, 12, 13, 14])\n",
        "\n",
        "print(a[2] + a[3])"
      ]
    },
    {
      "cell_type": "code",
      "execution_count": 12,
      "metadata": {
        "colab": {
          "base_uri": "https://localhost:8080/"
        },
        "id": "BLhrSn-psYBh",
        "outputId": "6fbb824d-6c25-46b0-9de6-d80aa969d2c6"
      },
      "outputs": [
        {
          "name": "stdout",
          "output_type": "stream",
          "text": [
            "2nd element on 1st dim:  17\n"
          ]
        }
      ],
      "source": [
        "# Access 2-D array\n",
        "#import numpy as np\n",
        "\n",
        "a = np.array([[11,12,13,14,15], [16,17,18,19,10]])\n",
        "\n",
        "print('2nd element on 1st dim: ', a[1, 1])"
      ]
    },
    {
      "cell_type": "code",
      "execution_count": 13,
      "metadata": {
        "colab": {
          "base_uri": "https://localhost:8080/"
        },
        "id": "mVpjQC-ysYBh",
        "outputId": "f952a0ff-3fac-48e1-d2a1-1161e8ec6224"
      },
      "outputs": [
        {
          "name": "stdout",
          "output_type": "stream",
          "text": [
            "Last element from 2nd dim:  10\n"
          ]
        }
      ],
      "source": [
        "#import numpy as np\n",
        "\n",
        "arr = np.array([[11,12,13,14,15], [16,17,18,19,10]])\n",
        "\n",
        "print('Last element from 2nd dim: ', arr[1, -1])"
      ]
    },
    {
      "cell_type": "markdown",
      "metadata": {
        "id": "w3Fm9Xf-sYBh"
      },
      "source": [
        "### NumPy Array Slicing\n",
        "\n",
        "<b>Slicing in python means taking elements from one given index to another given index.</b>\n",
        "\n",
        "We pass slice instead of index like this: [start:end].\n",
        "\n",
        "We can also define the step, like this: [start:end:step]."
      ]
    },
    {
      "cell_type": "code",
      "execution_count": 14,
      "metadata": {
        "colab": {
          "base_uri": "https://localhost:8080/"
        },
        "id": "mJ5MHjqJsYBh",
        "outputId": "20ffd206-c3d9-43db-e3aa-b557648dd954"
      },
      "outputs": [
        {
          "name": "stdout",
          "output_type": "stream",
          "text": [
            "[12 13 14 15]\n"
          ]
        }
      ],
      "source": [
        "#slice elements from index 1 to index 5 from the following array\n",
        "\n",
        "import numpy as np\n",
        "\n",
        "a = np.array([11, 12, 13, 14, 15, 16, 17])\n",
        "\n",
        "print(a[1:5])                               # it will consider the start index but for end index it will print till (end-1) index."
      ]
    },
    {
      "cell_type": "code",
      "execution_count": 15,
      "metadata": {
        "colab": {
          "base_uri": "https://localhost:8080/"
        },
        "id": "CDjNGiUhsYBh",
        "outputId": "52549df5-608c-4f11-dcc7-dcc7e3557d5c"
      },
      "outputs": [
        {
          "name": "stdout",
          "output_type": "stream",
          "text": [
            "[156  16  17  10  11]\n"
          ]
        }
      ],
      "source": [
        "#Slice elements from index 4 to the end of the array.\n",
        "\n",
        "import numpy as np\n",
        "\n",
        "a = np.array([451, 12, 13, 14, 156, 16, 17,10,11])\n",
        "\n",
        "print(a[4:])"
      ]
    },
    {
      "cell_type": "code",
      "execution_count": 16,
      "metadata": {
        "colab": {
          "base_uri": "https://localhost:8080/"
        },
        "id": "RX2QhWmTsYBh",
        "outputId": "1ceb1a24-5bcb-4d6c-ac7b-dce87f0a7ce6"
      },
      "outputs": [
        {
          "name": "stdout",
          "output_type": "stream",
          "text": [
            "[11 12 13 14 15]\n"
          ]
        }
      ],
      "source": [
        "#Slice elements from the beginning to index 5\n",
        "\n",
        "#import numpy as np\n",
        "\n",
        "a= np.array([11, 12, 13, 14, 15, 16, 17])\n",
        "\n",
        "print(a[:5])"
      ]
    },
    {
      "cell_type": "code",
      "execution_count": 17,
      "metadata": {
        "colab": {
          "base_uri": "https://localhost:8080/"
        },
        "id": "Y1eG7dUYsYBi",
        "outputId": "fb325622-a88a-4b5d-8097-726c94716ab4"
      },
      "outputs": [
        {
          "name": "stdout",
          "output_type": "stream",
          "text": [
            "[14 15 16]\n"
          ]
        }
      ],
      "source": [
        "#Slice from the index 4 from the end  to index 1 from the end\n",
        "\n",
        "#import numpy as np\n",
        "\n",
        "a = np.array([11, 12, 13, 14, 15, 16, 17])\n",
        "\n",
        "print(a[-4:-1])"
      ]
    },
    {
      "cell_type": "code",
      "execution_count": 18,
      "metadata": {
        "colab": {
          "base_uri": "https://localhost:8080/"
        },
        "id": "O5SMNALwsYBi",
        "outputId": "645dec06-3bdd-490c-a2c4-d43fba87f93a"
      },
      "outputs": [
        {
          "name": "stdout",
          "output_type": "stream",
          "text": [
            "[12 14 16]\n"
          ]
        }
      ],
      "source": [
        "#Step value to determine slicing\n",
        "\n",
        "#import numpy as np\n",
        "\n",
        "a = np.array([11, 12, 13, 14, 15, 16, 17])\n",
        "\n",
        "print(a[1:6:2])                            #[start:end:step]"
      ]
    },
    {
      "cell_type": "code",
      "execution_count": 19,
      "metadata": {
        "colab": {
          "base_uri": "https://localhost:8080/"
        },
        "id": "ZhM-38FbsYBi",
        "outputId": "945fbf79-1241-4435-b0b3-a20139cb8f41"
      },
      "outputs": [
        {
          "name": "stdout",
          "output_type": "stream",
          "text": [
            "[11 13 15 17]\n"
          ]
        }
      ],
      "source": [
        "#Return every other elements from the entire array.\n",
        "\n",
        "#import numpy as np\n",
        "\n",
        "arr = np.array([11, 12, 13, 14, 15, 16, 17])\n",
        "\n",
        "print(arr[::2])"
      ]
    },
    {
      "cell_type": "code",
      "execution_count": 20,
      "metadata": {
        "colab": {
          "base_uri": "https://localhost:8080/"
        },
        "id": "csLjfg0LsYBi",
        "outputId": "818277b0-2c80-4c7f-8ece-f801c9338ce1"
      },
      "outputs": [
        {
          "name": "stdout",
          "output_type": "stream",
          "text": [
            "[17 18 19]\n"
          ]
        }
      ],
      "source": [
        "#slicing 2-D array\n",
        "#From the second element, slice elements from index 1 to index 4\n",
        "\n",
        "#import numpy as np\n",
        "\n",
        "arr = np.array([[11, 12, 13, 14, 15], [16, 17, 18, 19, 10]])\n",
        "\n",
        "print(arr[1, 1:4])\n",
        "\n"
      ]
    },
    {
      "cell_type": "code",
      "execution_count": 21,
      "metadata": {
        "colab": {
          "base_uri": "https://localhost:8080/"
        },
        "id": "YQCUIp8WsYBi",
        "outputId": "d16ff5c4-db65-41a7-b20b-15e739fa8500"
      },
      "outputs": [
        {
          "name": "stdout",
          "output_type": "stream",
          "text": [
            "[[12 13 14]\n",
            " [17 18 19]]\n"
          ]
        }
      ],
      "source": [
        "#From both elements, slice index 1 to index 4, this will return a 2-D array.\n",
        "\n",
        "#import numpy as np\n",
        "\n",
        "arr = np.array([[11, 12, 13, 14, 15], [16, 17, 18, 19, 10]])\n",
        "\n",
        "print(arr[0:2, 1:4])"
      ]
    },
    {
      "cell_type": "markdown",
      "metadata": {
        "id": "NBFZctXqab14"
      },
      "source": [
        "# Mathematics on Numpy Arrays"
      ]
    },
    {
      "cell_type": "code",
      "execution_count": 22,
      "metadata": {
        "colab": {
          "base_uri": "https://localhost:8080/"
        },
        "id": "R571CQ1Zagg3",
        "outputId": "76ffad06-2da1-4217-ea89-cb0248f41626"
      },
      "outputs": [
        {
          "name": "stdout",
          "output_type": "stream",
          "text": [
            "[4 6]\n"
          ]
        }
      ],
      "source": [
        "a = [1,2]\n",
        "b= [3,4]\n",
        "c = np.add(a, b)\n",
        "#c = np.subtract(a, b)\n",
        "#c = np.multiply(a, b)\n",
        "#c = np.divide(a, b)\n",
        "#c = np.power(a, b)\n",
        "#c = np.power(a, 2)\n",
        "#to get remainder\n",
        "#c= np.mod(a, b)\n",
        "#c = np.remainder(a, b)\n",
        "print(c)"
      ]
    },
    {
      "cell_type": "markdown",
      "metadata": {
        "id": "KYUkYDwAsYBi"
      },
      "source": [
        "# NumPy Data Types\n",
        "<ol>\n",
        "<li>Strings (S)</li>\n",
        "<li>Integer (i)</li>\n",
        "<li>Float (f)</li>\n",
        "<li>Boolean (b)</li>\n",
        "<li>Complex (c)</li>\n",
        "</ol>\n"
      ]
    },
    {
      "cell_type": "code",
      "execution_count": 23,
      "metadata": {
        "colab": {
          "base_uri": "https://localhost:8080/"
        },
        "id": "8fr0mFvksYBi",
        "outputId": "fce02efd-9784-43fb-e1a3-09d89d2d377b"
      },
      "outputs": [
        {
          "name": "stdout",
          "output_type": "stream",
          "text": [
            "int64\n"
          ]
        }
      ],
      "source": [
        "#checking the data types\n",
        "\n",
        "import numpy as np\n",
        "\n",
        "a = np.array([1,2,3,4])\n",
        "\n",
        "print(a.dtype)"
      ]
    },
    {
      "cell_type": "code",
      "execution_count": 24,
      "metadata": {
        "colab": {
          "base_uri": "https://localhost:8080/"
        },
        "id": "nEdQHH2VsYBj",
        "outputId": "e4bf2aa6-6cea-4238-f794-c09ee060d3c8"
      },
      "outputs": [
        {
          "name": "stdout",
          "output_type": "stream",
          "text": [
            "[1 2 3 4]\n",
            "int32\n"
          ]
        }
      ],
      "source": [
        "#Creating array with a defined Data type\n",
        "#import numpy as np\n",
        "\n",
        "arr = np.array([1.1, 2.2, 3.3, 4.4], dtype='i')\n",
        "\n",
        "print(arr)\n",
        "print(arr.dtype)\n"
      ]
    },
    {
      "cell_type": "code",
      "execution_count": 25,
      "metadata": {
        "colab": {
          "base_uri": "https://localhost:8080/"
        },
        "id": "WT-h5NNPsYBj",
        "outputId": "5824b715-ec7e-4b59-8313-f4a7178b4a87"
      },
      "outputs": [
        {
          "name": "stdout",
          "output_type": "stream",
          "text": [
            "[1 2 3]\n",
            "int32\n"
          ]
        }
      ],
      "source": [
        "import numpy as np\n",
        "\n",
        "arr = np.array([1.1, 2.1, 3.1])\n",
        "\n",
        "newarr = arr.astype('i')  # 'i' inplace of int.\n",
        "\n",
        "print(newarr)\n",
        "print(newarr.dtype)"
      ]
    },
    {
      "cell_type": "code",
      "execution_count": 26,
      "metadata": {
        "colab": {
          "base_uri": "https://localhost:8080/"
        },
        "id": "k6V-Axq8sYBj",
        "outputId": "d9dd6339-d1d1-48d5-e853-9495d0417f51"
      },
      "outputs": [
        {
          "name": "stdout",
          "output_type": "stream",
          "text": [
            "[False  True  True]\n",
            "bool\n"
          ]
        }
      ],
      "source": [
        "#int to boolean\n",
        "\n",
        "import numpy as np\n",
        "\n",
        "arr = np.array([0, -1, 3])\n",
        "\n",
        "newarr = arr.astype(bool)\n",
        "\n",
        "print(newarr)\n",
        "print(newarr.dtype)"
      ]
    },
    {
      "cell_type": "markdown",
      "metadata": {
        "id": "3VelRztbsYBj"
      },
      "source": [
        "### NumPy Array: Copy vs View\n",
        "\n",
        "The main difference between a copy and a view of an array is that the copy is a new array, and the view is just a view of the original array.\n"
      ]
    },
    {
      "cell_type": "code",
      "execution_count": 27,
      "metadata": {
        "colab": {
          "base_uri": "https://localhost:8080/"
        },
        "id": "f4kUlvZusYBj",
        "outputId": "1d4aaa26-cdfb-49c2-d3e8-eac4cd17489f"
      },
      "outputs": [
        {
          "name": "stdout",
          "output_type": "stream",
          "text": [
            "[1 2 3 4 5]\n",
            "[42  2  3  4  5]\n"
          ]
        }
      ],
      "source": [
        "#Make a copy\n",
        "\n",
        "import numpy as np\n",
        "\n",
        "arr = np.array([1, 2, 3, 4, 5])\n",
        "x = arr.copy()\n",
        "x[0] = 42\n",
        "\n",
        "print(arr)\n",
        "print(x)"
      ]
    },
    {
      "cell_type": "code",
      "execution_count": 28,
      "metadata": {
        "colab": {
          "base_uri": "https://localhost:8080/"
        },
        "id": "AfYAYRmAsYBj",
        "outputId": "6e7f88f3-e6fe-4412-c6ab-e92ec5a6d73c"
      },
      "outputs": [
        {
          "name": "stdout",
          "output_type": "stream",
          "text": [
            "[42  2  3  4  5]\n",
            "[42  2  3  4  5]\n"
          ]
        }
      ],
      "source": [
        "#make a view\n",
        "\n",
        "import numpy as np\n",
        "\n",
        "arr = np.array([1, 2, 3, 4, 5])\n",
        "x = arr.view()\n",
        "x[0] = 42\n",
        "\n",
        "print(arr)\n",
        "print(x)"
      ]
    },
    {
      "cell_type": "markdown",
      "metadata": {
        "id": "hFaTrWsisYBj"
      },
      "source": [
        "### NumPy Array Shape\n",
        "\n",
        "The shape of an array is the number of elements in each dimension."
      ]
    },
    {
      "cell_type": "code",
      "execution_count": 29,
      "metadata": {
        "colab": {
          "base_uri": "https://localhost:8080/"
        },
        "id": "EytIy5KHsYBk",
        "outputId": "7db79242-f548-41fd-c6a4-a9425c1d52c2"
      },
      "outputs": [
        {
          "name": "stdout",
          "output_type": "stream",
          "text": [
            "(2, 4)\n"
          ]
        }
      ],
      "source": [
        "#print shape of 2-D array\n",
        "\n",
        "import numpy as np\n",
        "arr = np.array([[1, 2, 3, 4], [5, 6, 7, 8]])\n",
        "\n",
        "print(arr.shape)"
      ]
    },
    {
      "cell_type": "markdown",
      "metadata": {
        "id": "jJ5PlXo-sYBk"
      },
      "source": [
        "### NumPy Array Reshaping\n",
        "\n",
        "Reshaping means changing the shape of an array."
      ]
    },
    {
      "cell_type": "code",
      "execution_count": 30,
      "metadata": {
        "colab": {
          "base_uri": "https://localhost:8080/"
        },
        "id": "iHiwQSKusYBk",
        "outputId": "aade090e-a098-4a31-beec-09277cea47e0"
      },
      "outputs": [
        {
          "name": "stdout",
          "output_type": "stream",
          "text": [
            "[[ 1  2  3]\n",
            " [ 4  5  6]\n",
            " [ 7  8  9]\n",
            " [10 11 12]]\n"
          ]
        }
      ],
      "source": [
        "# 1-D to 2-D\n",
        "import numpy as np\n",
        "\n",
        "arr = np.array([1, 2, 3, 4, 5, 6, 7, 8, 9, 10, 11, 12])\n",
        "\n",
        "newarr = arr.reshape(4,3)\n",
        "\n",
        "print(newarr)"
      ]
    },
    {
      "cell_type": "code",
      "execution_count": 31,
      "metadata": {
        "colab": {
          "base_uri": "https://localhost:8080/"
        },
        "id": "m-G--gaasYBk",
        "outputId": "25cd7c25-00ab-4645-b71f-45d3817c070c"
      },
      "outputs": [
        {
          "name": "stdout",
          "output_type": "stream",
          "text": [
            "[1 2 3 4 5 6]\n"
          ]
        }
      ],
      "source": [
        "#Flattening the array\n",
        "import numpy as np\n",
        "\n",
        "arr = np.array([[1, 2, 3], [4, 5, 6]])\n",
        "\n",
        "newarr = arr.reshape(-1)\n",
        "\n",
        "print(newarr)\n",
        "#print(arr)"
      ]
    },
    {
      "cell_type": "markdown",
      "metadata": {
        "id": "AFO_hFhcsYBk"
      },
      "source": [
        "### NumPy Array Iterating\n",
        "\n",
        "Iterating means going through elements one by one."
      ]
    },
    {
      "cell_type": "code",
      "execution_count": 32,
      "metadata": {
        "colab": {
          "base_uri": "https://localhost:8080/"
        },
        "id": "Xh21833JsYBk",
        "outputId": "a508a357-cf76-405b-918e-183aca771a9c"
      },
      "outputs": [
        {
          "name": "stdout",
          "output_type": "stream",
          "text": [
            "1\n",
            "2\n",
            "3\n"
          ]
        }
      ],
      "source": [
        "#1D array\n",
        "import numpy as np\n",
        "\n",
        "arr = np.array([1, 2, 3])\n",
        "\n",
        "for x in arr:\n",
        "    print(x)"
      ]
    },
    {
      "cell_type": "code",
      "execution_count": 33,
      "metadata": {
        "colab": {
          "base_uri": "https://localhost:8080/"
        },
        "id": "-pq9m-zBsYBk",
        "outputId": "94e79874-ef8c-436a-eb6c-617fc0bbc81b"
      },
      "outputs": [
        {
          "name": "stdout",
          "output_type": "stream",
          "text": [
            "(0, 0) 1\n",
            "(0, 1) 2\n",
            "(0, 2) 3\n",
            "(1, 0) 4\n",
            "(1, 1) 5\n",
            "(1, 2) 6\n"
          ]
        }
      ],
      "source": [
        "#2D array\n",
        "import numpy as np\n",
        "\n",
        "arr = np.array([[1, 2, 3], [4, 5, 6]])\n",
        "\n",
        "#for x in arr:\n",
        " #   for y in x:\n",
        "  #      print(y)\n",
        "for idx,x in np.ndenumerate(arr):\n",
        "    print(idx,x)"
      ]
    },
    {
      "cell_type": "markdown",
      "metadata": {
        "id": "kBp6jMnMsYBl"
      },
      "source": [
        "### NumPy Joining Array"
      ]
    },
    {
      "cell_type": "code",
      "execution_count": 34,
      "metadata": {
        "colab": {
          "base_uri": "https://localhost:8080/"
        },
        "id": "8TqgVdg8sYBl",
        "outputId": "3dc90ff6-b67f-49e5-c6df-6ef5a1385d00"
      },
      "outputs": [
        {
          "name": "stdout",
          "output_type": "stream",
          "text": [
            "[1 2 3 4 5 6]\n"
          ]
        }
      ],
      "source": [
        "import numpy as np\n",
        "\n",
        "arr1 = np.array([1, 2, 3])\n",
        "\n",
        "arr2 = np.array([4, 5, 6])\n",
        "\n",
        "arr = np.concatenate((arr1, arr2))\n",
        "\n",
        "print(arr)"
      ]
    },
    {
      "cell_type": "markdown",
      "metadata": {
        "id": "cfhAnRq_sYBl"
      },
      "source": [
        "### NumPy Splitting Array"
      ]
    },
    {
      "cell_type": "code",
      "execution_count": 35,
      "metadata": {
        "colab": {
          "base_uri": "https://localhost:8080/"
        },
        "id": "xvy5R5XusYBl",
        "outputId": "8555d2ff-d468-4233-ed43-b153de47f0ab"
      },
      "outputs": [
        {
          "name": "stdout",
          "output_type": "stream",
          "text": [
            "[array([1, 2, 3]), array([4, 5, 6])]\n"
          ]
        }
      ],
      "source": [
        "#split the array in 3 parts\n",
        "\n",
        "import numpy as np\n",
        "\n",
        "arr = np.array([1, 2, 3, 4, 5, 6])\n",
        "\n",
        "newarr = np.array_split(arr, 2)\n",
        "\n",
        "print(newarr)"
      ]
    },
    {
      "cell_type": "code",
      "execution_count": 36,
      "metadata": {
        "colab": {
          "base_uri": "https://localhost:8080/"
        },
        "id": "91zV_K2-sYBl",
        "outputId": "4404680e-1910-40db-afc9-8c6482634af1"
      },
      "outputs": [
        {
          "name": "stdout",
          "output_type": "stream",
          "text": [
            "[array([[1, 2],\n",
            "       [3, 4]]), array([[5, 6],\n",
            "       [7, 8]]), array([[ 9, 10],\n",
            "       [11, 12]])]\n"
          ]
        }
      ],
      "source": [
        "#Splitting 2-D arrays into three 2-D array.\n",
        "import numpy as np\n",
        "\n",
        "arr = np.array([[1, 2], [3, 4], [5, 6], [7, 8], [9, 10], [11, 12]])\n",
        "\n",
        "newarr = np.array_split(arr, 3)\n",
        "\n",
        "print(newarr)\n",
        "#print(newarr[0])\n",
        "#print(newarr[1])\n",
        "#print(newarr[2])\n"
      ]
    },
    {
      "cell_type": "markdown",
      "metadata": {
        "id": "vYc3VdvnsYBl"
      },
      "source": [
        "# NumPy Searching Arrays"
      ]
    },
    {
      "cell_type": "code",
      "execution_count": 37,
      "metadata": {
        "colab": {
          "base_uri": "https://localhost:8080/"
        },
        "id": "rK9ydwaVsYBl",
        "outputId": "a6e186e6-9c44-42e3-911f-27f2221d2c6b"
      },
      "outputs": [
        {
          "name": "stdout",
          "output_type": "stream",
          "text": [
            "(array([3, 5, 6]),)\n"
          ]
        }
      ],
      "source": [
        "#Where() method\n",
        "import numpy as np\n",
        "\n",
        "arr = np.array([1, 2, 3, 4, 5, 4, 4])\n",
        "\n",
        "x = np.where(arr == 4)\n",
        "#x = np.array(x)[0]\n",
        "print(x)\n"
      ]
    },
    {
      "cell_type": "code",
      "execution_count": 38,
      "metadata": {
        "colab": {
          "base_uri": "https://localhost:8080/"
        },
        "id": "OdSxs7gYsYBl",
        "outputId": "64de3076-9faf-40b1-d3d5-7203f551d3de"
      },
      "outputs": [
        {
          "name": "stdout",
          "output_type": "stream",
          "text": [
            "(array([1, 3, 5, 7]),)\n"
          ]
        }
      ],
      "source": [
        "#Find the indexes where the values are even\n",
        "\n",
        "import numpy as np\n",
        "\n",
        "arr = np.array([11, 12, 13, 14, 15, 16, 17, 18])\n",
        "\n",
        "x = np.where(arr%2 == 0)\n",
        "\n",
        "print(x)"
      ]
    },
    {
      "cell_type": "markdown",
      "metadata": {
        "id": "iQTqXo_LsYBl"
      },
      "source": [
        "### NumPy Sorting Arrays"
      ]
    },
    {
      "cell_type": "code",
      "execution_count": 39,
      "metadata": {
        "colab": {
          "base_uri": "https://localhost:8080/"
        },
        "id": "AW86zNPhsYBl",
        "outputId": "d5213d2d-35ca-460a-9d79-429e1c9760b1"
      },
      "outputs": [
        {
          "name": "stdout",
          "output_type": "stream",
          "text": [
            "[0 1 2 3]\n"
          ]
        }
      ],
      "source": [
        "#sort\n",
        "import numpy as np\n",
        "\n",
        "arr = np.array([3, 2, 0, 1])\n",
        "\n",
        "print(np.sort(arr))"
      ]
    },
    {
      "cell_type": "code",
      "execution_count": 40,
      "metadata": {
        "colab": {
          "base_uri": "https://localhost:8080/"
        },
        "id": "WouhHeNYsYBl",
        "outputId": "f930b486-64db-4206-82d8-4212fcd6bb57"
      },
      "outputs": [
        {
          "name": "stdout",
          "output_type": "stream",
          "text": [
            "['apple' 'banana' 'cherry']\n"
          ]
        }
      ],
      "source": [
        "import numpy as np\n",
        "\n",
        "arr = np.array(['banana', 'cherry', 'apple'])\n",
        "\n",
        "print(np.sort(arr))"
      ]
    },
    {
      "cell_type": "code",
      "execution_count": 41,
      "metadata": {
        "colab": {
          "base_uri": "https://localhost:8080/"
        },
        "id": "bDGk9GZHsYBm",
        "outputId": "0fa93f1c-4e49-4801-e7d3-09091768cdf1",
        "scrolled": true
      },
      "outputs": [
        {
          "name": "stdout",
          "output_type": "stream",
          "text": [
            "[[2 3 4]\n",
            " [0 1 5]]\n"
          ]
        }
      ],
      "source": [
        "import numpy as np\n",
        "\n",
        "arr = np.array([[3, 2, 4], [5, 0, 1]])\n",
        "\n",
        "print(np.sort(arr))"
      ]
    },
    {
      "cell_type": "markdown",
      "metadata": {
        "id": "M0d3m--hsYBm"
      },
      "source": [
        "### Random Numbers in NumPy\n"
      ]
    },
    {
      "cell_type": "code",
      "execution_count": 42,
      "metadata": {
        "colab": {
          "base_uri": "https://localhost:8080/"
        },
        "id": "dNwlheeasYBm",
        "outputId": "9a432cda-21e6-43aa-d132-4bf5abc91768"
      },
      "outputs": [
        {
          "name": "stdout",
          "output_type": "stream",
          "text": [
            "16\n"
          ]
        }
      ],
      "source": [
        "from numpy import random\n",
        "\n",
        "x = random.randint(100)\n",
        "print(x)"
      ]
    },
    {
      "cell_type": "code",
      "execution_count": 43,
      "metadata": {
        "id": "OXJOh0DpsYBm"
      },
      "outputs": [],
      "source": [
        "#rand() method return a random float between 0 and 1"
      ]
    },
    {
      "cell_type": "code",
      "execution_count": 44,
      "metadata": {
        "colab": {
          "base_uri": "https://localhost:8080/"
        },
        "id": "BBGYiOYRsYBm",
        "outputId": "47c5ecee-4804-4412-a81b-aa4a0d23337b"
      },
      "outputs": [
        {
          "name": "stdout",
          "output_type": "stream",
          "text": [
            "[[63 35 48 65 22]\n",
            " [39 41 70 43 53]\n",
            " [99 72 72 73 69]]\n"
          ]
        }
      ],
      "source": [
        "#generate random array\n",
        "from numpy import random\n",
        "\n",
        "#x=random.randint(100, size=(5))\n",
        "x=random.randint(100, size=(3,5))\n",
        "\n",
        "print(x)"
      ]
    },
    {
      "cell_type": "markdown",
      "metadata": {
        "id": "unmi7DKcsYBm"
      },
      "source": [
        "### Statistical function\n"
      ]
    },
    {
      "cell_type": "code",
      "execution_count": 45,
      "metadata": {
        "colab": {
          "base_uri": "https://localhost:8080/"
        },
        "id": "0qkKhOtusYBm",
        "outputId": "bdad2175-6a28-4438-cbdc-4c53099a2351"
      },
      "outputs": [
        {
          "data": {
            "text/plain": [
              "np.float64(3.0)"
            ]
          },
          "execution_count": 45,
          "metadata": {},
          "output_type": "execute_result"
        }
      ],
      "source": [
        "a = [1,2,3,4,5]\n",
        "\n",
        "#np.median(a)\n",
        "#np.std(a)\n",
        "np.average(a)\n",
        "#np.mean(a)\n",
        "#np.var(a)\n"
      ]
    },
    {
      "cell_type": "markdown",
      "metadata": {
        "id": "n92gcPREsYBm"
      },
      "source": [
        "### Data Distribution using NumPy\n",
        "\n"
      ]
    },
    {
      "cell_type": "code",
      "execution_count": 49,
      "metadata": {
        "colab": {
          "base_uri": "https://localhost:8080/",
          "height": 265
        },
        "id": "cDd75TcmsYBm",
        "outputId": "a7e15aed-6c39-4d95-d266-7b36b8fabf12"
      },
      "outputs": [
        {
          "data": {
            "image/png": "[encoded data removed]",
            "text/plain": [
              "<Figure size 640x480 with 1 Axes>"
            ]
          },
          "metadata": {},
          "output_type": "display_data"
        }
      ],
      "source": [
        "#Random uniform distribution..\n",
        "\n",
        "import numpy\n",
        "import matplotlib.pyplot as plt\n",
        "\n",
        "x = numpy.random.uniform(0.0, 5.0, 250)            #(lowerbound, upperbound, samples)\n",
        "# x = numpy.random.normal(0.0, 5.0, 250)\n",
        "\n",
        "plt.hist(x, 5)\n",
        "plt.show()"
      ]
    },
    {
      "cell_type": "markdown",
      "metadata": {
        "id": "1OjdepxvZiNE"
      },
      "source": [
        "Problem:\n",
        "Create two n X m dimensional numpy arrays. Then add, multiply and subtract those."
      ]
    },
    {
      "cell_type": "code",
      "execution_count": 56,
      "metadata": {
        "id": "MUB3bsJjZiNF"
      },
      "outputs": [
        {
          "name": "stdout",
          "output_type": "stream",
          "text": [
            "[[69 88 57  2 40]\n",
            " [61 99 50 33 55]\n",
            " [25 14  4 80 20]\n",
            " [90 85 48 63 24]]\n",
            "\n",
            "[[75 93 93 76 51]\n",
            " [98 48 29 89 39]\n",
            " [61 62 14 18 19]\n",
            " [92 81 86 38 48]]\n",
            "\n",
            "[[144 181 150  78  91]\n",
            " [159 147  79 122  94]\n",
            " [ 86  76  18  98  39]\n",
            " [182 166 134 101  72]]\n",
            "\n",
            "[[5175 8184 5301  152 2040]\n",
            " [5978 4752 1450 2937 2145]\n",
            " [1525  868   56 1440  380]\n",
            " [8280 6885 4128 2394 1152]]\n",
            "\n",
            "[[ -6  -5 -36 -74 -11]\n",
            " [-37  51  21 -56  16]\n",
            " [-36 -48 -10  62   1]\n",
            " [ -2   4 -38  25 -24]]\n",
            "\n"
          ]
        }
      ],
      "source": [
        "# Assignment\n",
        "\n",
        "import numpy as np\n",
        "\n",
        "n = 4\n",
        "m = 5\n",
        "\n",
        "arr1 = np.random.randint(100, size=(n, m))\n",
        "arr2 = np.random.randint(100, size=(n, m))\n",
        "\n",
        "print(arr1, end=\"\\n\\n\")\n",
        "print(arr2, end=\"\\n\\n\")\n",
        "print(np.add(arr1, arr2), end=\"\\n\\n\")\n",
        "print(np.multiply(arr1, arr2), end=\"\\n\\n\")\n",
        "print(np.subtract(arr1, arr2), end=\"\\n\\n\")"
      ]
    }
  ],
  "metadata": {
    "colab": {
      "provenance": []
    },
    "kernelspec": {
      "display_name": "Python 3",
      "language": "python",
      "name": "python3"
    },
    "language_info": {
      "codemirror_mode": {
        "name": "ipython",
        "version": 3
      },
      "file_extension": ".py",
      "mimetype": "text/x-python",
      "name": "python",
      "nbconvert_exporter": "python",
      "pygments_lexer": "ipython3",
      "version": "3.9.13"
    }
  },
  "nbformat": 4,
  "nbformat_minor": 0
}
