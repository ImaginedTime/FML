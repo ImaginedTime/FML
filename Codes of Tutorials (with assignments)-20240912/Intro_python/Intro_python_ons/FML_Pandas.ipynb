{
  "cells": [
    {
      "cell_type": "code",
      "execution_count": 1,
      "metadata": {},
      "outputs": [
        {
          "name": "stdout",
          "output_type": "stream",
          "text": [
            "Collecting pandas\n",
            "  Downloading pandas-2.2.2-cp39-cp39-win_amd64.whl (11.6 MB)\n",
            "     ---------------------------------------- 11.6/11.6 MB 3.1 MB/s eta 0:00:00\n",
            "Collecting tzdata>=2022.7\n",
            "  Downloading tzdata-2024.1-py2.py3-none-any.whl (345 kB)\n",
            "     -------------------------------------- 345.4/345.4 KB 2.7 MB/s eta 0:00:00\n",
            "Requirement already satisfied: python-dateutil>=2.8.2 in c:\\users\\uday om\\appdata\\roaming\\python\\python39\\site-packages (from pandas) (2.9.0.post0)\n",
            "Collecting pytz>=2020.1\n",
            "  Downloading pytz-2024.2-py2.py3-none-any.whl (508 kB)\n",
            "     -------------------------------------- 508.0/508.0 KB 2.5 MB/s eta 0:00:00\n",
            "Collecting numpy>=1.22.4\n",
            "  Downloading numpy-2.0.2-cp39-cp39-win_amd64.whl (15.9 MB)\n",
            "     ---------------------------------------- 15.9/15.9 MB 1.6 MB/s eta 0:00:00\n",
            "Requirement already satisfied: six>=1.5 in c:\\users\\uday om\\appdata\\roaming\\python\\python39\\site-packages (from python-dateutil>=2.8.2->pandas) (1.16.0)\n",
            "Installing collected packages: pytz, tzdata, numpy, pandas\n",
            "Successfully installed numpy-2.0.2 pandas-2.2.2 pytz-2024.2 tzdata-2024.1\n"
          ]
        },
        {
          "name": "stderr",
          "output_type": "stream",
          "text": [
            "WARNING: You are using pip version 22.0.4; however, version 24.2 is available.\n",
            "You should consider upgrading via the 'C:\\Users\\Uday Om\\AppData\\Local\\Programs\\Python\\Python39\\python.exe -m pip install --upgrade pip' command.\n"
          ]
        },
        {
          "name": "stdout",
          "output_type": "stream",
          "text": [
            "Requirement already satisfied: numpy in c:\\users\\uday om\\appdata\\local\\programs\\python\\python39\\lib\\site-packages (2.0.2)\n"
          ]
        },
        {
          "name": "stderr",
          "output_type": "stream",
          "text": [
            "WARNING: You are using pip version 22.0.4; however, version 24.2 is available.\n",
            "You should consider upgrading via the 'C:\\Users\\Uday Om\\AppData\\Local\\Programs\\Python\\Python39\\python.exe -m pip install --upgrade pip' command.\n"
          ]
        }
      ],
      "source": [
        "! pip install pandas\n",
        "! pip install numpy"
      ]
    },
    {
      "cell_type": "code",
      "execution_count": 2,
      "metadata": {
        "id": "R7QohkSJVVsa"
      },
      "outputs": [],
      "source": [
        "import pandas as pd\n",
        "import numpy as np"
      ]
    },
    {
      "cell_type": "markdown",
      "metadata": {
        "id": "BUsXxhzkVVsb"
      },
      "source": [
        "# Creating a Series\n",
        "A Series is a one-dimensional array-like object in pandas. You can create a Series from a list, NumPy array, or a dictionary."
      ]
    },
    {
      "cell_type": "code",
      "execution_count": 3,
      "metadata": {
        "colab": {
          "base_uri": "https://localhost:8080/"
        },
        "id": "QuHgecGzVVsd",
        "outputId": "f650c828-1434-48fb-b9a6-3a627115b0ee"
      },
      "outputs": [
        {
          "name": "stdout",
          "output_type": "stream",
          "text": [
            "0    1.0\n",
            "1    3.0\n",
            "2    5.0\n",
            "3    NaN\n",
            "4    6.0\n",
            "5    8.0\n",
            "dtype: float64\n"
          ]
        }
      ],
      "source": [
        "\n",
        "# Creating a Series from a list\n",
        "s = pd.Series([1, 3, 5, np.nan, 6, 8])\n",
        "print(s)\n"
      ]
    },
    {
      "cell_type": "markdown",
      "metadata": {
        "id": "9nHpBG3aVVsd"
      },
      "source": [
        "# Creating a DataFrame\n",
        "A DataFrame is a two-dimensional tabular data structure with labeled axes (rows and columns). You can create a DataFrame from various sources, such as lists, dictionaries, or even from a CSV file."
      ]
    },
    {
      "cell_type": "code",
      "execution_count": 4,
      "metadata": {
        "colab": {
          "base_uri": "https://localhost:8080/"
        },
        "id": "FC0erK8oVVse",
        "outputId": "ed4e2b49-ed80-499c-8bd0-55971c85e29e"
      },
      "outputs": [
        {
          "name": "stdout",
          "output_type": "stream",
          "text": [
            "   Name  Age           City\n",
            "0  John   25       New York\n",
            "1  Jane   30  San Francisco\n",
            "2   Bob   22    Los Angeles\n"
          ]
        }
      ],
      "source": [
        "# Creating a DataFrame from a dictionary\n",
        "data = {'Name': ['John', 'Jane', 'Bob'],\n",
        "        'Age': [25, 30, 22],\n",
        "        'City': ['New York', 'San Francisco', 'Los Angeles']}\n",
        "\n",
        "df = pd.DataFrame(data)\n",
        "df.to_csv('example.csv')\n",
        "print(df)\n"
      ]
    },
    {
      "cell_type": "markdown",
      "metadata": {
        "id": "VWT_X1UCVVsf"
      },
      "source": [
        "# Reading and Writing Data\n",
        "Pandas supports various file formats for reading and writing data. Common formats include CSV, Excel, and SQL."
      ]
    },
    {
      "cell_type": "code",
      "execution_count": 5,
      "metadata": {
        "colab": {
          "base_uri": "https://localhost:8080/"
        },
        "id": "zuEpLSNoVVsf",
        "outputId": "6b2ee777-c8cc-4a1b-de04-601e1e0a77da"
      },
      "outputs": [
        {
          "name": "stdout",
          "output_type": "stream",
          "text": [
            "   Unnamed: 0  Name  Age           City\n",
            "0           0  John   25       New York\n",
            "1           1  Jane   30  San Francisco\n",
            "2           2   Bob   22    Los Angeles\n"
          ]
        }
      ],
      "source": [
        "# Reading from a CSV file\n",
        "df_csv = pd.read_csv('example.csv')\n",
        "print (df_csv)\n",
        "# Writing to a CSV file\n",
        "df_csv.to_csv('output.csv', index=False)\n"
      ]
    },
    {
      "cell_type": "markdown",
      "metadata": {
        "id": "K7fXAMY2VVsg"
      },
      "source": [
        "# Basic Operations"
      ]
    },
    {
      "cell_type": "markdown",
      "metadata": {
        "id": "4UueFARmVVsg"
      },
      "source": [
        "Selection and Indexing"
      ]
    },
    {
      "cell_type": "code",
      "execution_count": 6,
      "metadata": {
        "colab": {
          "base_uri": "https://localhost:8080/"
        },
        "id": "rXRrHE9tVVsh",
        "outputId": "ea2cdd81-b145-4b24-b505-476a9f2cada8"
      },
      "outputs": [
        {
          "name": "stdout",
          "output_type": "stream",
          "text": [
            "0    John\n",
            "1    Jane\n",
            "2     Bob\n",
            "Name: Name, dtype: object\n",
            "   Name  Age\n",
            "0  John   25\n",
            "1  Jane   30\n",
            "2   Bob   22\n",
            "Name        John\n",
            "Age           25\n",
            "City    New York\n",
            "Name: 0, dtype: object\n"
          ]
        }
      ],
      "source": [
        "\n",
        "\n",
        "# Selecting a column\n",
        "print(df['Name'])\n",
        "\n",
        "# Selecting multiple columns\n",
        "print(df[['Name', 'Age']])\n",
        "\n",
        "# Selecting rows by index\n",
        "print(df.iloc[0])\n"
      ]
    },
    {
      "cell_type": "markdown",
      "metadata": {
        "id": "4qiB_ARKVVsi"
      },
      "source": [
        "Filtering Data"
      ]
    },
    {
      "cell_type": "code",
      "execution_count": 9,
      "metadata": {
        "id": "L1tcekMXVVsj",
        "outputId": "8c0331b2-194e-41b1-a835-34cc18cc6dee"
      },
      "outputs": [
        {
          "name": "stdout",
          "output_type": "stream",
          "text": [
            "   Name  Age           City\n",
            "1  Jane   30  San Francisco\n"
          ]
        }
      ],
      "source": [
        "# Filtering based on a condition\n",
        "print(df[df['Age'] > 25])\n"
      ]
    },
    {
      "cell_type": "markdown",
      "metadata": {
        "id": "4zbapHaRVVsj"
      },
      "source": [
        "Adding and Removing Columns"
      ]
    },
    {
      "cell_type": "code",
      "execution_count": 10,
      "metadata": {
        "id": "otJLAsqGVVsj"
      },
      "outputs": [],
      "source": [
        "# Adding a new column\n",
        "df['Salary'] = [50000, 60000, np.nan]\n",
        "\n",
        "# Removing a column\n",
        "#df.drop('City', axis=1, inplace=True)\n"
      ]
    },
    {
      "cell_type": "code",
      "execution_count": 11,
      "metadata": {
        "colab": {
          "base_uri": "https://localhost:8080/",
          "height": 143
        },
        "id": "VyH7FZsmVVsj",
        "outputId": "bbe73c1e-ac8e-4463-fb23-1868937a0e47"
      },
      "outputs": [
        {
          "data": {
            "text/html": [
              "<div>\n",
              "<style scoped>\n",
              "    .dataframe tbody tr th:only-of-type {\n",
              "        vertical-align: middle;\n",
              "    }\n",
              "\n",
              "    .dataframe tbody tr th {\n",
              "        vertical-align: top;\n",
              "    }\n",
              "\n",
              "    .dataframe thead th {\n",
              "        text-align: right;\n",
              "    }\n",
              "</style>\n",
              "<table border=\"1\" class=\"dataframe\">\n",
              "  <thead>\n",
              "    <tr style=\"text-align: right;\">\n",
              "      <th></th>\n",
              "      <th>Name</th>\n",
              "      <th>Age</th>\n",
              "      <th>City</th>\n",
              "      <th>Salary</th>\n",
              "    </tr>\n",
              "  </thead>\n",
              "  <tbody>\n",
              "    <tr>\n",
              "      <th>0</th>\n",
              "      <td>John</td>\n",
              "      <td>25</td>\n",
              "      <td>New York</td>\n",
              "      <td>50000.0</td>\n",
              "    </tr>\n",
              "    <tr>\n",
              "      <th>1</th>\n",
              "      <td>Jane</td>\n",
              "      <td>30</td>\n",
              "      <td>San Francisco</td>\n",
              "      <td>60000.0</td>\n",
              "    </tr>\n",
              "    <tr>\n",
              "      <th>2</th>\n",
              "      <td>Bob</td>\n",
              "      <td>22</td>\n",
              "      <td>Los Angeles</td>\n",
              "      <td>NaN</td>\n",
              "    </tr>\n",
              "  </tbody>\n",
              "</table>\n",
              "</div>"
            ],
            "text/plain": [
              "   Name  Age           City   Salary\n",
              "0  John   25       New York  50000.0\n",
              "1  Jane   30  San Francisco  60000.0\n",
              "2   Bob   22    Los Angeles      NaN"
            ]
          },
          "execution_count": 11,
          "metadata": {},
          "output_type": "execute_result"
        }
      ],
      "source": [
        "df"
      ]
    },
    {
      "cell_type": "markdown",
      "metadata": {
        "id": "yS_j23rMVVsk"
      },
      "source": [
        "# Data Cleaning\n",
        "Pandas provides methods for handling missing data, such as dropna() and fillna()."
      ]
    },
    {
      "cell_type": "code",
      "execution_count": 12,
      "metadata": {
        "colab": {
          "base_uri": "https://localhost:8080/",
          "height": 112
        },
        "id": "SP2Vq7A5VVsk",
        "outputId": "ea61af00-ec4d-46bf-a6b8-31c529899f69"
      },
      "outputs": [
        {
          "data": {
            "text/html": [
              "<div>\n",
              "<style scoped>\n",
              "    .dataframe tbody tr th:only-of-type {\n",
              "        vertical-align: middle;\n",
              "    }\n",
              "\n",
              "    .dataframe tbody tr th {\n",
              "        vertical-align: top;\n",
              "    }\n",
              "\n",
              "    .dataframe thead th {\n",
              "        text-align: right;\n",
              "    }\n",
              "</style>\n",
              "<table border=\"1\" class=\"dataframe\">\n",
              "  <thead>\n",
              "    <tr style=\"text-align: right;\">\n",
              "      <th></th>\n",
              "      <th>Name</th>\n",
              "      <th>Age</th>\n",
              "      <th>City</th>\n",
              "      <th>Salary</th>\n",
              "    </tr>\n",
              "  </thead>\n",
              "  <tbody>\n",
              "    <tr>\n",
              "      <th>0</th>\n",
              "      <td>John</td>\n",
              "      <td>25</td>\n",
              "      <td>New York</td>\n",
              "      <td>50000.0</td>\n",
              "    </tr>\n",
              "    <tr>\n",
              "      <th>1</th>\n",
              "      <td>Jane</td>\n",
              "      <td>30</td>\n",
              "      <td>San Francisco</td>\n",
              "      <td>60000.0</td>\n",
              "    </tr>\n",
              "  </tbody>\n",
              "</table>\n",
              "</div>"
            ],
            "text/plain": [
              "   Name  Age           City   Salary\n",
              "0  John   25       New York  50000.0\n",
              "1  Jane   30  San Francisco  60000.0"
            ]
          },
          "execution_count": 12,
          "metadata": {},
          "output_type": "execute_result"
        }
      ],
      "source": [
        "df_new = df\n",
        "# Dropping rows with missing values\n",
        "df_new.dropna()\n",
        "\n",
        "# Filling missing values with a specific value\n",
        "# df_new.fillna(0)\n"
      ]
    },
    {
      "cell_type": "code",
      "execution_count": 13,
      "metadata": {
        "colab": {
          "base_uri": "https://localhost:8080/",
          "height": 143
        },
        "id": "MuQKbe8RVVsk",
        "outputId": "f5c4cea5-a0ba-4ca5-acf5-2bd3fcc46bb9"
      },
      "outputs": [
        {
          "data": {
            "text/html": [
              "<div>\n",
              "<style scoped>\n",
              "    .dataframe tbody tr th:only-of-type {\n",
              "        vertical-align: middle;\n",
              "    }\n",
              "\n",
              "    .dataframe tbody tr th {\n",
              "        vertical-align: top;\n",
              "    }\n",
              "\n",
              "    .dataframe thead th {\n",
              "        text-align: right;\n",
              "    }\n",
              "</style>\n",
              "<table border=\"1\" class=\"dataframe\">\n",
              "  <thead>\n",
              "    <tr style=\"text-align: right;\">\n",
              "      <th></th>\n",
              "      <th>Name</th>\n",
              "      <th>Age</th>\n",
              "      <th>City</th>\n",
              "      <th>Salary</th>\n",
              "    </tr>\n",
              "  </thead>\n",
              "  <tbody>\n",
              "    <tr>\n",
              "      <th>0</th>\n",
              "      <td>John</td>\n",
              "      <td>25</td>\n",
              "      <td>New York</td>\n",
              "      <td>50000.0</td>\n",
              "    </tr>\n",
              "    <tr>\n",
              "      <th>1</th>\n",
              "      <td>Jane</td>\n",
              "      <td>30</td>\n",
              "      <td>San Francisco</td>\n",
              "      <td>60000.0</td>\n",
              "    </tr>\n",
              "    <tr>\n",
              "      <th>2</th>\n",
              "      <td>Bob</td>\n",
              "      <td>22</td>\n",
              "      <td>Los Angeles</td>\n",
              "      <td>NaN</td>\n",
              "    </tr>\n",
              "  </tbody>\n",
              "</table>\n",
              "</div>"
            ],
            "text/plain": [
              "   Name  Age           City   Salary\n",
              "0  John   25       New York  50000.0\n",
              "1  Jane   30  San Francisco  60000.0\n",
              "2   Bob   22    Los Angeles      NaN"
            ]
          },
          "execution_count": 13,
          "metadata": {},
          "output_type": "execute_result"
        }
      ],
      "source": [
        "df"
      ]
    },
    {
      "cell_type": "markdown",
      "metadata": {
        "id": "PqLIrlJQVVsl"
      },
      "source": [
        "# Grouping and Aggregating Data"
      ]
    },
    {
      "cell_type": "code",
      "execution_count": 14,
      "metadata": {
        "id": "-SOkeaC8VVsl",
        "outputId": "60714891-75a1-478c-b16a-649228010af0"
      },
      "outputs": [
        {
          "name": "stdout",
          "output_type": "stream",
          "text": [
            "City\n",
            "Los Angeles      22.0\n",
            "New York         25.0\n",
            "San Francisco    30.0\n",
            "Name: Age, dtype: float64\n"
          ]
        }
      ],
      "source": [
        "# Grouping by a column and calculating the mean\n",
        "grouped_data = df.groupby('City')['Age'].mean()\n",
        "print(grouped_data)\n"
      ]
    },
    {
      "cell_type": "markdown",
      "metadata": {
        "id": "GGaxVnySVVsm"
      },
      "source": [
        "# Data Visualization\n",
        "Pandas integrates with Matplotlib for basic data visualization."
      ]
    },
    {
      "cell_type": "code",
      "execution_count": 16,
      "metadata": {},
      "outputs": [
        {
          "name": "stdout",
          "output_type": "stream",
          "text": [
            "Collecting matplotlib\n",
            "  Using cached matplotlib-3.9.2-cp39-cp39-win_amd64.whl (7.8 MB)\n",
            "Collecting fonttools>=4.22.0\n",
            "  Using cached fonttools-4.53.1-cp39-cp39-win_amd64.whl (2.2 MB)\n",
            "Collecting pillow>=8\n",
            "  Using cached pillow-10.4.0-cp39-cp39-win_amd64.whl (2.6 MB)\n",
            "Collecting pyparsing>=2.3.1\n",
            "  Using cached pyparsing-3.1.4-py3-none-any.whl (104 kB)\n",
            "Requirement already satisfied: numpy>=1.23 in c:\\users\\uday om\\appdata\\local\\programs\\python\\python39\\lib\\site-packages (from matplotlib) (2.0.2)\n",
            "Requirement already satisfied: packaging>=20.0 in c:\\users\\uday om\\appdata\\roaming\\python\\python39\\site-packages (from matplotlib) (24.1)\n",
            "Collecting cycler>=0.10\n",
            "  Using cached cycler-0.12.1-py3-none-any.whl (8.3 kB)\n",
            "Requirement already satisfied: python-dateutil>=2.7 in c:\\users\\uday om\\appdata\\roaming\\python\\python39\\site-packages (from matplotlib) (2.9.0.post0)\n",
            "Collecting importlib-resources>=3.2.0\n",
            "  Downloading importlib_resources-6.4.5-py3-none-any.whl (36 kB)\n",
            "Collecting kiwisolver>=1.3.1\n",
            "  Downloading kiwisolver-1.4.7-cp39-cp39-win_amd64.whl (55 kB)\n",
            "     ---------------------------------------- 55.8/55.8 KB 2.9 MB/s eta 0:00:00\n",
            "Collecting contourpy>=1.0.1\n",
            "  Downloading contourpy-1.3.0-cp39-cp39-win_amd64.whl (211 kB)\n",
            "     -------------------------------------- 211.8/211.8 KB 4.3 MB/s eta 0:00:00\n",
            "Requirement already satisfied: zipp>=3.1.0 in c:\\users\\uday om\\appdata\\roaming\\python\\python39\\site-packages (from importlib-resources>=3.2.0->matplotlib) (3.20.1)\n",
            "Requirement already satisfied: six>=1.5 in c:\\users\\uday om\\appdata\\roaming\\python\\python39\\site-packages (from python-dateutil>=2.7->matplotlib) (1.16.0)\n",
            "Installing collected packages: pyparsing, pillow, kiwisolver, importlib-resources, fonttools, cycler, contourpy, matplotlib\n",
            "Successfully installed contourpy-1.3.0 cycler-0.12.1 fonttools-4.53.1 importlib-resources-6.4.5 kiwisolver-1.4.7 matplotlib-3.9.2 pillow-10.4.0 pyparsing-3.1.4\n"
          ]
        },
        {
          "name": "stderr",
          "output_type": "stream",
          "text": [
            "WARNING: You are using pip version 22.0.4; however, version 24.2 is available.\n",
            "You should consider upgrading via the 'C:\\Users\\Uday Om\\AppData\\Local\\Programs\\Python\\Python39\\python.exe -m pip install --upgrade pip' command.\n"
          ]
        }
      ],
      "source": [
        "! pip install matplotlib"
      ]
    },
    {
      "cell_type": "code",
      "execution_count": 17,
      "metadata": {
        "id": "1jiPCxa6VVsm",
        "outputId": "dd844d1a-87b9-4619-eca3-db50e00608b1"
      },
      "outputs": [
        {
          "data": {
            "image/png": "[encoded data removed]",
            "text/plain": [
              "<Figure size 640x480 with 1 Axes>"
            ]
          },
          "metadata": {},
          "output_type": "display_data"
        }
      ],
      "source": [
        "import matplotlib.pyplot as plt\n",
        "\n",
        "# Plotting a column\n",
        "df['Age'].plot(kind='bar')\n",
        "plt.show()\n"
      ]
    },
    {
      "cell_type": "markdown",
      "metadata": {
        "id": "ksVTOxmCVVsm"
      },
      "source": [
        "Problem:\n",
        "\n",
        "Create a DataFrame from the following data:\n",
        "\n",
        "Name\tAge\tCity\n",
        "Alice\t32\tNew York\n",
        "Bob\t    25\tChicago\n",
        "Charlie\t28\tLos Angeles\n",
        "David\t31\tHouston\n",
        "Emily\t27\tPhoenix\n",
        "Then, select the rows where the City is not 'Chicago'."
      ]
    },
    {
      "cell_type": "code",
      "execution_count": 18,
      "metadata": {},
      "outputs": [
        {
          "name": "stdout",
          "output_type": "stream",
          "text": [
            "      Name  Age         City\n",
            "0    Alice   32     New York\n",
            "2  Charlie   28  Los Angeles\n",
            "3    David   31      Houston\n",
            "4    Emily   27      Phoenix\n"
          ]
        }
      ],
      "source": [
        "    # Assignment\n",
        "\n",
        "    import pandas as pd\n",
        "\n",
        "    data = {\n",
        "        'Name': ['Alice', 'Bob', 'Charlie', 'David', 'Emily'],\n",
        "        'Age': [32, 25, 28, 31, 27],\n",
        "        'City': ['New York', 'Chicago', 'Los Angeles', 'Houston', 'Phoenix']\n",
        "    }\n",
        "\n",
        "    df = pd.DataFrame(data)\n",
        "\n",
        "    selected_rows = df[df['City'] != 'Chicago']\n",
        "\n",
        "    print(selected_rows)"
      ]
    },
    {
      "cell_type": "code",
      "execution_count": null,
      "metadata": {},
      "outputs": [],
      "source": []
    }
  ],
  "metadata": {
    "colab": {
      "provenance": []
    },
    "kernelspec": {
      "display_name": "tf-gpu",
      "language": "python",
      "name": "python3"
    },
    "language_info": {
      "codemirror_mode": {
        "name": "ipython",
        "version": 3
      },
      "file_extension": ".py",
      "mimetype": "text/x-python",
      "name": "python",
      "nbconvert_exporter": "python",
      "pygments_lexer": "ipython3",
      "version": "3.9.13"
    }
  },
  "nbformat": 4,
  "nbformat_minor": 0
}
